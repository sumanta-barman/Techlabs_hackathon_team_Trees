{
  "nbformat": 4,
  "nbformat_minor": 0,
  "metadata": {
    "colab": {
      "name": "Untitled0.ipynb",
      "provenance": [],
      "collapsed_sections": []
    },
    "kernelspec": {
      "display_name": "Python 3",
      "name": "python3"
    },
    "language_info": {
      "name": "python"
    }
  },
  "cells": [
    {
      "cell_type": "code",
      "metadata": {
        "colab": {
          "base_uri": "https://localhost:8080/"
        },
        "id": "dopuew2nQ67l",
        "outputId": "7b215962-b278-4ec1-9fd9-fec372645f9d"
      },
      "source": [
        "from google.colab import drive\n",
        "drive.mount('/content/drive')\n",
        "\n"
      ],
      "execution_count": null,
      "outputs": [
        {
          "name": "stdout",
          "output_type": "stream",
          "text": [
            "Mounted at /content/drive\n"
          ]
        }
      ]
    },
    {
      "cell_type": "code",
      "metadata": {
        "colab": {
          "base_uri": "https://localhost:8080/"
        },
        "id": "10EZAjCPyuL6",
        "outputId": "c60389b2-cd91-4186-b306-207e30a95082"
      },
      "source": [
        "!pip install contextily\n"
      ],
      "execution_count": null,
      "outputs": [
        {
          "name": "stdout",
          "output_type": "stream",
          "text": [
            "Collecting contextily\n",
            "  Downloading contextily-1.1.0-py3-none-any.whl (24 kB)\n",
            "Requirement already satisfied: requests in /usr/local/lib/python3.7/dist-packages (from contextily) (2.23.0)\n",
            "Requirement already satisfied: joblib in /usr/local/lib/python3.7/dist-packages (from contextily) (1.0.1)\n",
            "Requirement already satisfied: matplotlib in /usr/local/lib/python3.7/dist-packages (from contextily) (3.2.2)\n",
            "Collecting mercantile\n",
            "  Downloading mercantile-1.2.1-py3-none-any.whl (14 kB)\n",
            "Collecting rasterio\n",
            "  Downloading rasterio-1.2.6-cp37-cp37m-manylinux1_x86_64.whl (19.3 MB)\n",
            "\u001b[K     |████████████████████████████████| 19.3 MB 1.4 MB/s \n",
            "\u001b[?25hRequirement already satisfied: geopy in /usr/local/lib/python3.7/dist-packages (from contextily) (1.17.0)\n",
            "Requirement already satisfied: pillow in /usr/local/lib/python3.7/dist-packages (from contextily) (7.1.2)\n",
            "Requirement already satisfied: geographiclib<2,>=1.49 in /usr/local/lib/python3.7/dist-packages (from geopy->contextily) (1.52)\n",
            "Requirement already satisfied: cycler>=0.10 in /usr/local/lib/python3.7/dist-packages (from matplotlib->contextily) (0.10.0)\n",
            "Requirement already satisfied: numpy>=1.11 in /usr/local/lib/python3.7/dist-packages (from matplotlib->contextily) (1.19.5)\n",
            "Requirement already satisfied: kiwisolver>=1.0.1 in /usr/local/lib/python3.7/dist-packages (from matplotlib->contextily) (1.3.1)\n",
            "Requirement already satisfied: python-dateutil>=2.1 in /usr/local/lib/python3.7/dist-packages (from matplotlib->contextily) (2.8.2)\n",
            "Requirement already satisfied: pyparsing!=2.0.4,!=2.1.2,!=2.1.6,>=2.0.1 in /usr/local/lib/python3.7/dist-packages (from matplotlib->contextily) (2.4.7)\n",
            "Requirement already satisfied: six in /usr/local/lib/python3.7/dist-packages (from cycler>=0.10->matplotlib->contextily) (1.15.0)\n",
            "Requirement already satisfied: click>=3.0 in /usr/local/lib/python3.7/dist-packages (from mercantile->contextily) (7.1.2)\n",
            "Collecting snuggs>=1.4.1\n",
            "  Downloading snuggs-1.4.7-py3-none-any.whl (5.4 kB)\n",
            "Requirement already satisfied: attrs in /usr/local/lib/python3.7/dist-packages (from rasterio->contextily) (21.2.0)\n",
            "Requirement already satisfied: click-plugins in /usr/local/lib/python3.7/dist-packages (from rasterio->contextily) (1.1.1)\n",
            "Requirement already satisfied: certifi in /usr/local/lib/python3.7/dist-packages (from rasterio->contextily) (2021.5.30)\n",
            "Collecting affine\n",
            "  Downloading affine-2.3.0-py2.py3-none-any.whl (15 kB)\n",
            "Requirement already satisfied: setuptools in /usr/local/lib/python3.7/dist-packages (from rasterio->contextily) (57.4.0)\n",
            "Requirement already satisfied: cligj>=0.5 in /usr/local/lib/python3.7/dist-packages (from rasterio->contextily) (0.7.2)\n",
            "Requirement already satisfied: chardet<4,>=3.0.2 in /usr/local/lib/python3.7/dist-packages (from requests->contextily) (3.0.4)\n",
            "Requirement already satisfied: urllib3!=1.25.0,!=1.25.1,<1.26,>=1.21.1 in /usr/local/lib/python3.7/dist-packages (from requests->contextily) (1.24.3)\n",
            "Requirement already satisfied: idna<3,>=2.5 in /usr/local/lib/python3.7/dist-packages (from requests->contextily) (2.10)\n",
            "Installing collected packages: snuggs, affine, rasterio, mercantile, contextily\n",
            "Successfully installed affine-2.3.0 contextily-1.1.0 mercantile-1.2.1 rasterio-1.2.6 snuggs-1.4.7\n"
          ]
        }
      ]
    },
    {
      "cell_type": "code",
      "metadata": {
        "id": "dv1WifXgRNtO"
      },
      "source": [
        "import pandas as pd \n",
        "import geopandas as gpd\n",
        "import matplotlib.pyplot as plt\n",
        "import numpy as np"
      ],
      "execution_count": null,
      "outputs": []
    },
    {
      "cell_type": "code",
      "metadata": {
        "id": "jn-7qa_QC7Xu"
      },
      "source": [
        "color_dict = {'Abgestorben': 'dodgerblue',\n",
        " 'Absterbend': 'g',\n",
        " 'Fäule': 'r',\n",
        " 'Morschung': 'c',\n",
        " 'Pilzbefall': 'm',\n",
        " 'Rußrindenkrankheit': 'y',\n",
        " 'Schrägstand': 'k',\n",
        " 'Sonst': 'slateblue',\n",
        " 'Stammschaden': 'lime',\n",
        " 'Sturmschaden': 'violet',\n",
        " \"Morschung\": \"skyblue\",\n",
        " \"Schrägstand\": \"teal\",\n",
        " \"Komplexerkrankung\": \"brown\",\n",
        " \"Riss\": \"olive\",\n",
        " \"Unfallschaden\": \"bisque\",\n",
        " \"Sachbeschädigung\": \"plum\",\n",
        " \"Baummaßnahma\": \"tomato\",\n",
        " \"Trocken\": \"azure\",\n",
        " \"Pseudomonas\": \"tan\",\n",
        " \"Lackporling\": \"hotpink\",\n",
        " \"zu dichter Stand\": \"orchid\",\n",
        " \"Gefahr\": \"honeydew\",\n",
        " \"Druckzwiesel\": \"beige\",\n",
        " \"massiver Rindenschaden\": \"wheat\",\n",
        " \"Bauwerksschädigung\": \"red\"}"
      ],
      "execution_count": null,
      "outputs": []
    },
    {
      "cell_type": "code",
      "metadata": {
        "colab": {
          "background_save": true
        },
        "id": "yRt3oeCYRPQA",
        "outputId": "332d4ce7-94b5-4acb-c7b7-98f97fec4279"
      },
      "source": [
        "from pandas.api.types import is_integer_dtype\n",
        "import contextily as ctx\n",
        "\n",
        "\n",
        "toilets = gpd.read_file(\"Standorte öffentlicher Toiletten Düsseldorf 2017_0.geojson.txt\")\n",
        "\n",
        "def plotTrees(season, year, column):\n",
        "  city_border = gpd.read_file(\"Stadtgrenze_WGS84_4326.geojson.json\")\n",
        "  trees = gpd.read_file(\"tree_1.geojson\")\n",
        "  trees = trees.to_crs(city_border.crs)\n",
        "  trees['dia'] = trees['dia'].fillna(0)\n",
        "  trees['dia'] = pd.to_numeric(trees['dia'].astype(str).str.replace(',',''), errors='coerce').fillna(0).astype(int)\n",
        "  \n",
        "  # select only the trees that match year and season\n",
        "  # year_selection = trees[trees.year == year]\n",
        "  tree_selection = trees[trees.season == season]\n",
        "  tree_selection = trees\n",
        "  combine_smallest(tree_selection,'reason', 10, replacement='Sonst')\n",
        "\n",
        "  f, ax = plt.subplots(1, figsize=(12, 12))\n",
        "  base.to_crs(epsg=3857)\n",
        "  base = city_border.plot(ax=ax, color=\"#f2f2f2\")\n",
        "  trees = tree_selection.plot(ax=base, \n",
        "                           markersize=tree_selection['dia'] ,  legend=True, alpha=0.1)\n",
        "  \n",
        "  ax = toilets.plot(ax=trees, color=\"red\")\n",
        "  ax.set_axis_off()\n",
        "  ctx.add_basemap(ax)\n",
        "  plt.show()\n",
        "\n",
        "\n",
        "# f, ax = plt.subplots(1)\n",
        "# ax = lsoas.plot(axes=ax)\n",
        "# ax.set_axis_off()\n",
        "# plt.show()\n",
        "# so, win\n",
        "\n",
        "\n",
        "\n",
        "\n",
        "# trees = gpd.read_file(\"tree_1.geojson\")\n",
        "\n",
        "\n",
        "# DO NOT SELECT WINTER 2019\n",
        "plotTrees(season=\"win\", year=2018, column=\"reason\")\n",
        "# plotTrees(season=\"so\", year=2018, column=\"reason\")\n",
        "# trees"
      ],
      "execution_count": null,
      "outputs": [
        {
          "ename": "UnboundLocalError",
          "evalue": "ignored",
          "output_type": "error",
          "traceback": [
            "\u001b[0;31m---------------------------------------------------------------------------\u001b[0m",
            "\u001b[0;31mUnboundLocalError\u001b[0m                         Traceback (most recent call last)",
            "\u001b[0;32m<ipython-input-131-aa86de686f3e>\u001b[0m in \u001b[0;36m<module>\u001b[0;34m()\u001b[0m\n\u001b[1;32m     43\u001b[0m \u001b[0;34m\u001b[0m\u001b[0m\n\u001b[1;32m     44\u001b[0m \u001b[0;31m# DO NOT SELECT WINTER 2019\u001b[0m\u001b[0;34m\u001b[0m\u001b[0;34m\u001b[0m\u001b[0;34m\u001b[0m\u001b[0m\n\u001b[0;32m---> 45\u001b[0;31m \u001b[0mplotTrees\u001b[0m\u001b[0;34m(\u001b[0m\u001b[0mseason\u001b[0m\u001b[0;34m=\u001b[0m\u001b[0;34m\"win\"\u001b[0m\u001b[0;34m,\u001b[0m \u001b[0myear\u001b[0m\u001b[0;34m=\u001b[0m\u001b[0;36m2018\u001b[0m\u001b[0;34m,\u001b[0m \u001b[0mcolumn\u001b[0m\u001b[0;34m=\u001b[0m\u001b[0;34m\"reason\"\u001b[0m\u001b[0;34m)\u001b[0m\u001b[0;34m\u001b[0m\u001b[0;34m\u001b[0m\u001b[0m\n\u001b[0m\u001b[1;32m     46\u001b[0m \u001b[0;31m# plotTrees(season=\"so\", year=2018, column=\"reason\")\u001b[0m\u001b[0;34m\u001b[0m\u001b[0;34m\u001b[0m\u001b[0;34m\u001b[0m\u001b[0m\n\u001b[1;32m     47\u001b[0m \u001b[0;31m# trees\u001b[0m\u001b[0;34m\u001b[0m\u001b[0;34m\u001b[0m\u001b[0;34m\u001b[0m\u001b[0m\n",
            "\u001b[0;32m<ipython-input-131-aa86de686f3e>\u001b[0m in \u001b[0;36mplotTrees\u001b[0;34m(season, year, column)\u001b[0m\n\u001b[1;32m     19\u001b[0m \u001b[0;34m\u001b[0m\u001b[0m\n\u001b[1;32m     20\u001b[0m   \u001b[0mf\u001b[0m\u001b[0;34m,\u001b[0m \u001b[0max\u001b[0m \u001b[0;34m=\u001b[0m \u001b[0mplt\u001b[0m\u001b[0;34m.\u001b[0m\u001b[0msubplots\u001b[0m\u001b[0;34m(\u001b[0m\u001b[0;36m1\u001b[0m\u001b[0;34m,\u001b[0m \u001b[0mfigsize\u001b[0m\u001b[0;34m=\u001b[0m\u001b[0;34m(\u001b[0m\u001b[0;36m12\u001b[0m\u001b[0;34m,\u001b[0m \u001b[0;36m12\u001b[0m\u001b[0;34m)\u001b[0m\u001b[0;34m)\u001b[0m\u001b[0;34m\u001b[0m\u001b[0;34m\u001b[0m\u001b[0m\n\u001b[0;32m---> 21\u001b[0;31m   \u001b[0mbase\u001b[0m\u001b[0;34m.\u001b[0m\u001b[0mto_crs\u001b[0m\u001b[0;34m(\u001b[0m\u001b[0mepsg\u001b[0m\u001b[0;34m=\u001b[0m\u001b[0;36m3857\u001b[0m\u001b[0;34m)\u001b[0m\u001b[0;34m\u001b[0m\u001b[0;34m\u001b[0m\u001b[0m\n\u001b[0m\u001b[1;32m     22\u001b[0m   \u001b[0mbase\u001b[0m \u001b[0;34m=\u001b[0m \u001b[0mcity_border\u001b[0m\u001b[0;34m.\u001b[0m\u001b[0mplot\u001b[0m\u001b[0;34m(\u001b[0m\u001b[0max\u001b[0m\u001b[0;34m=\u001b[0m\u001b[0max\u001b[0m\u001b[0;34m,\u001b[0m \u001b[0mcolor\u001b[0m\u001b[0;34m=\u001b[0m\u001b[0;34m\"#f2f2f2\"\u001b[0m\u001b[0;34m)\u001b[0m\u001b[0;34m\u001b[0m\u001b[0;34m\u001b[0m\u001b[0m\n\u001b[1;32m     23\u001b[0m   trees = tree_selection.plot(ax=base, \n",
            "\u001b[0;31mUnboundLocalError\u001b[0m: local variable 'base' referenced before assignment"
          ]
        },
        {
          "data": {
            "image/png": "[encoded data removed]",
            "text/plain": [
              "<Figure size 864x864 with 1 Axes>"
            ]
          },
          "metadata": {},
          "output_type": "display_data"
        }
      ]
    },
    {
      "cell_type": "code",
      "metadata": {
        "colab": {
          "base_uri": "https://localhost:8080/",
          "height": 593
        },
        "id": "mQpAwW1237nD",
        "outputId": "933eddbd-803e-45e9-9671-1903e0700215"
      },
      "source": [
        "trees = pd.read_csv(\"tree_1.csv\")\n",
        "# trees[(trees['year']==2019) & (trees['season'] == 'so')]\n",
        "# trees = trees.drop(['Absterbend', 'Abgestorben'])\n",
        "combine_smallest(trees, 'reason', 11)\n",
        "\n",
        "# df2 = trees.groupby(['year', 'season'])['reason'].value_counts().unstack()\n",
        "# df2 = trees['reason'].value_counts()\n",
        "\n",
        "# df2 = df2.drop(['Abgestorben'])\n",
        "\n",
        "df2 = trees[trees['reason'] == 'Rußrindenkrankheit']\n",
        "# df2 = df2.drop(['Abgestorben', 'Absterbend'], axis=1)\n",
        "# df2.plot.pie(stacked=True, figsize=(10,10))\n",
        "# plt.legend(loc='center left', bbox_to_anchor=(1.0, 0.5))\n",
        "# plt.show()\n",
        "df2['name'].value_counts().head(10).plot.pie(figsize=(10,10))"
      ],
      "execution_count": null,
      "outputs": [
        {
          "data": {
            "text/plain": [
              "<matplotlib.axes._subplots.AxesSubplot at 0x7f671a1bb2d0>"
            ]
          },
          "execution_count": 119,
          "metadata": {},
          "output_type": "execute_result"
        },
        {
          "data": {
            "image/png": "[encoded data removed]",
            "text/plain": [
              "<Figure size 720x720 with 1 Axes>"
            ]
          },
          "metadata": {},
          "output_type": "display_data"
        }
      ]
    },
    {
      "cell_type": "code",
      "metadata": {
        "colab": {
          "base_uri": "https://localhost:8080/",
          "height": 418
        },
        "id": "wARccYX7VSdM",
        "outputId": "e5d51e7a-a633-4a41-b683-de230203a745"
      },
      "source": [
        ""
      ],
      "execution_count": null,
      "outputs": [
        {
          "data": {
            "text/html": [
              "<div>\n",
              "<style scoped>\n",
              "    .dataframe tbody tr th:only-of-type {\n",
              "        vertical-align: middle;\n",
              "    }\n",
              "\n",
              "    .dataframe tbody tr th {\n",
              "        vertical-align: top;\n",
              "    }\n",
              "\n",
              "    .dataframe thead th {\n",
              "        text-align: right;\n",
              "    }\n",
              "</style>\n",
              "<table border=\"1\" class=\"dataframe\">\n",
              "  <thead>\n",
              "    <tr style=\"text-align: right;\">\n",
              "      <th></th>\n",
              "      <th>Unnamed: 0</th>\n",
              "      <th>lat</th>\n",
              "      <th>lon</th>\n",
              "      <th>reason</th>\n",
              "      <th>name</th>\n",
              "      <th>dia</th>\n",
              "      <th>year</th>\n",
              "      <th>season</th>\n",
              "    </tr>\n",
              "  </thead>\n",
              "  <tbody>\n",
              "    <tr>\n",
              "      <th>509</th>\n",
              "      <td>0</td>\n",
              "      <td>51.21982381</td>\n",
              "      <td>6.7809519929999995</td>\n",
              "      <td>Pilzbefall &amp; Schrägstand</td>\n",
              "      <td>Robinie</td>\n",
              "      <td>107</td>\n",
              "      <td>2019</td>\n",
              "      <td>so</td>\n",
              "    </tr>\n",
              "    <tr>\n",
              "      <th>510</th>\n",
              "      <td>1</td>\n",
              "      <td>51.22226858</td>\n",
              "      <td>6.769472148999999</td>\n",
              "      <td>extremer Schrägstand</td>\n",
              "      <td>Robinie</td>\n",
              "      <td>194</td>\n",
              "      <td>2019</td>\n",
              "      <td>so</td>\n",
              "    </tr>\n",
              "    <tr>\n",
              "      <th>511</th>\n",
              "      <td>2</td>\n",
              "      <td>51.22647673</td>\n",
              "      <td>6.775827014</td>\n",
              "      <td>abgestorben</td>\n",
              "      <td>Schwedische Mehlbeere</td>\n",
              "      <td>30</td>\n",
              "      <td>2019</td>\n",
              "      <td>so</td>\n",
              "    </tr>\n",
              "    <tr>\n",
              "      <th>512</th>\n",
              "      <td>3</td>\n",
              "      <td>51.22655129</td>\n",
              "      <td>6.791883181</td>\n",
              "      <td>Pilzbefall</td>\n",
              "      <td>Schwedische Mehlbeere</td>\n",
              "      <td>90</td>\n",
              "      <td>2019</td>\n",
              "      <td>so</td>\n",
              "    </tr>\n",
              "    <tr>\n",
              "      <th>513</th>\n",
              "      <td>4</td>\n",
              "      <td>51.22661516</td>\n",
              "      <td>6.79183658</td>\n",
              "      <td>Pilzbefall</td>\n",
              "      <td>Schwedische Mehlbeere</td>\n",
              "      <td>62</td>\n",
              "      <td>2019</td>\n",
              "      <td>so</td>\n",
              "    </tr>\n",
              "    <tr>\n",
              "      <th>...</th>\n",
              "      <td>...</td>\n",
              "      <td>...</td>\n",
              "      <td>...</td>\n",
              "      <td>...</td>\n",
              "      <td>...</td>\n",
              "      <td>...</td>\n",
              "      <td>...</td>\n",
              "      <td>...</td>\n",
              "    </tr>\n",
              "    <tr>\n",
              "      <th>1112</th>\n",
              "      <td>603</td>\n",
              "      <td>51.2670982</td>\n",
              "      <td>6.7539502229999995</td>\n",
              "      <td>abgestorben</td>\n",
              "      <td>Ahorn</td>\n",
              "      <td>112</td>\n",
              "      <td>2019</td>\n",
              "      <td>so</td>\n",
              "    </tr>\n",
              "    <tr>\n",
              "      <th>1113</th>\n",
              "      <td>604</td>\n",
              "      <td>51.26992028</td>\n",
              "      <td>6.736269206</td>\n",
              "      <td>abgestorben</td>\n",
              "      <td>Feldahorn</td>\n",
              "      <td>90</td>\n",
              "      <td>2019</td>\n",
              "      <td>so</td>\n",
              "    </tr>\n",
              "    <tr>\n",
              "      <th>1114</th>\n",
              "      <td>605</td>\n",
              "      <td>51.26745614</td>\n",
              "      <td>6.729733327999999</td>\n",
              "      <td>abgestorben</td>\n",
              "      <td>Götterbaum</td>\n",
              "      <td>155</td>\n",
              "      <td>2019</td>\n",
              "      <td>so</td>\n",
              "    </tr>\n",
              "    <tr>\n",
              "      <th>1115</th>\n",
              "      <td>606</td>\n",
              "      <td>51.27209652</td>\n",
              "      <td>6.731154516</td>\n",
              "      <td>90 trockene Bäume</td>\n",
              "      <td>Diverse</td>\n",
              "      <td>80-480</td>\n",
              "      <td>2019</td>\n",
              "      <td>so</td>\n",
              "    </tr>\n",
              "    <tr>\n",
              "      <th>1116</th>\n",
              "      <td>607</td>\n",
              "      <td>51.17129753</td>\n",
              "      <td>6.846194291000001</td>\n",
              "      <td>50 trockene Buchen</td>\n",
              "      <td>Buchen</td>\n",
              "      <td>200-350</td>\n",
              "      <td>2019</td>\n",
              "      <td>so</td>\n",
              "    </tr>\n",
              "  </tbody>\n",
              "</table>\n",
              "<p>608 rows × 8 columns</p>\n",
              "</div>"
            ],
            "text/plain": [
              "      Unnamed: 0          lat                 lon  ...      dia  year season\n",
              "509            0  51.21982381  6.7809519929999995  ...      107  2019     so\n",
              "510            1  51.22226858   6.769472148999999  ...      194  2019     so\n",
              "511            2  51.22647673         6.775827014  ...       30  2019     so\n",
              "512            3  51.22655129         6.791883181  ...       90  2019     so\n",
              "513            4  51.22661516          6.79183658  ...       62  2019     so\n",
              "...          ...          ...                 ...  ...      ...   ...    ...\n",
              "1112         603   51.2670982  6.7539502229999995  ...      112  2019     so\n",
              "1113         604  51.26992028         6.736269206  ...       90  2019     so\n",
              "1114         605  51.26745614   6.729733327999999  ...      155  2019     so\n",
              "1115         606  51.27209652         6.731154516  ...   80-480  2019     so\n",
              "1116         607  51.17129753   6.846194291000001  ...  200-350  2019     so\n",
              "\n",
              "[608 rows x 8 columns]"
            ]
          },
          "execution_count": 231,
          "metadata": {},
          "output_type": "execute_result"
        }
      ]
    },
    {
      "cell_type": "code",
      "metadata": {
        "colab": {
          "base_uri": "https://localhost:8080/",
          "height": 705
        },
        "id": "2wvmRfVUo7st",
        "outputId": "c10df7dc-7ee4-4073-9daa-89273f3e4005"
      },
      "source": [
        "def filterTrees(df, year, season):\n",
        "  return df.loc[(df['season'] == season) & (df['year'] == year)]\n",
        "\n",
        "df = pd.read_csv(\"tree_1.csv\");\n",
        "# df = filterTrees(df, 2020, \"win\")\n",
        "# df.head()\n",
        "\n",
        "# df.head()\n",
        "\n",
        "# reasons = df['reason'].unique()\n",
        "# names = df['name'].unique()\n",
        "# dictionary = dict.fromkeys(reasons, [])\n",
        "\n",
        "# for reason in reaasons:\n",
        "#   for name in names:\n",
        "#     dictionary[reason].append()\n",
        "# index\n",
        "# ax = df['reason'].value_counts().plot.bar(stacked=True, figsize=(40,20))\n",
        "\n",
        "\n",
        "# df = df.groupby([\"name\"])\n",
        "# df.head()\n",
        "\n",
        "def combine_smallest(df,column, n, replacement=\"Sonst\"):\n",
        "  most_common = df[column].value_counts().index.tolist()[:n-1]\n",
        "  df.loc[~df[column].isin(most_common) , column] = replacement\n",
        "\n",
        "# df.groupby('reason')['name'].value_counts().unstack().fillna(0)\n",
        "\n",
        "\n",
        "# df2 = df.groupby('reason')['name'].value_counts().unstack().fillna(0)\n",
        "# df2 = df.groupby('reason')['name'].value_counts().nlargest(20)\n",
        "\n",
        "\n",
        "# df['name'] = np.where(f(df['name']) , \"sheeeesh\", df['name'])\n",
        "\n",
        "combine_smallest(df,column='name', n=10)\n",
        "combine_smallest(df,column='reason', n=10)\n",
        "\n",
        "ax = df.groupby('reason')['name'].value_counts().unstack().fillna(0).plot.bar(\n",
        "    stacked=True,\n",
        "    # color=[color_dict[key] for key in df['reason']],\n",
        "    figsize=(40,20))\n",
        "\n",
        "# df3 = df.groupby('reason')['name'].value_counts().unstack().fillna(0)\n",
        "\n",
        "\n",
        "# df.groupby('State')['Population'].apply(lambda grp: grp.nlargest(2).sum())\n",
        "# df3\n",
        "# df = pd.read_csv(\"tree_1.csv\");\n",
        "# df.groupby(\"reason\").reason.count().sort_values(ascending=False)\n"
      ],
      "execution_count": null,
      "outputs": [
        {
          "data": {
            "image/png": "[encoded data removed]",
            "text/plain": [
              "<Figure size 2880x1440 with 1 Axes>"
            ]
          },
          "metadata": {},
          "output_type": "display_data"
        }
      ]
    }
  ]
}